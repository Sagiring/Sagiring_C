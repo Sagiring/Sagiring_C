{
 "cells": [
  {
   "cell_type": "code",
   "execution_count": 87,
   "metadata": {},
   "outputs": [],
   "source": [
    "import requests\n",
    "from requests.structures import CaseInsensitiveDict\n",
    "import time\n",
    "import csv\n",
    "\n",
    "def get_bilibili_hot():\n",
    "    page = 1\n",
    "    bilibili_data = []\n",
    "    while 1:\n",
    "        next_url = f'https://api.bilibili.com/x/web-interface/popular?ps=20&pn={page}'\n",
    "        headers = CaseInsensitiveDict()\n",
    "        # headers[\"User-Agent\"] = 'Mozilla/5.0 (Windows NT 10.0; Win64; x64) AppleWebKit/537.36 (KHTML, like Gecko) Chrome/104.0.0.0 Safari/537.36'\n",
    "\n",
    "        cookies = {\n",
    "        'buvid3': '19F99527-07B1-434F-852D-AD240DA95712148831infoc',\n",
    "        'LIVE_BUVID': 'AUTO4716261050593882',\n",
    "        'rpdid': '|(J|YmYulk~~0J\\'uYkYuJJm|u',\n",
    "        'video_page_version': 'v_old_home',\n",
    "        'fingerprint_s': '9b0bccf4ec57734720e42828cf636185',\n",
    "        'i-wanna-go-back': '-1',\n",
    "        'buvid_fp_plain': 'undefined',\n",
    "        'buvid4': 'FA94223F-82CA-ACC9-D0BB-E38B02B4731991204-022012417-4HxpIjLfbKYv65KDSYmcdw%3D%3D',\n",
    "        'fingerprint3': '0111e39952fcd2d0e77176058d70888b',\n",
    "        'CURRENT_BLACKGAP': '0',\n",
    "        'hit-dyn-v2': '1',\n",
    "        'nostalgia_conf': '-1',\n",
    "        'CURRENT_QUALITY': '116',\n",
    "        'blackside_state': '0',\n",
    "        '_uuid': 'A99993BA-C72A-4106B-8344-C9D7109BCAFBF01405infoc',\n",
    "        'fingerprint': '0b5f8746827d7037afa0e55420fc4564',\n",
    "        'buvid_fp': '0b5f8746827d7037afa0e55420fc4564',\n",
    "        'DedeUserID': '23111878',\n",
    "        'DedeUserID__ckMd5': '0d9aed6047896e63',\n",
    "        'b_ut': '5',\n",
    "        'CURRENT_FNVAL': '4048',\n",
    "        'innersign': '0',\n",
    "        'SESSDATA': '92089377%2C1677495170%2Cf6a2f%2A81',\n",
    "        'bili_jct': 'e1f20d7b43ef9b44fc321addf4ed0b3f',\n",
    "        'sid': 'parqjy1w',\n",
    "        'b_lsid': 'DB9D9F6F_182F3DB085D',\n",
    "        'bp_video_offset_23111878': '700562458064978000',\n",
    "        'PVID': '3',\n",
    "    }\n",
    "\n",
    "        headers = {\n",
    "            'authority': 'api.bilibili.com',\n",
    "            'accept': '*/*',\n",
    "            'accept-language': 'zh-CN,zh;q=0.9',\n",
    "            # Requests sorts cookies= alphabetically\n",
    "            # 'cookie': 'buvid3=19F99527-07B1-434F-852D-AD240DA95712148831infoc; LIVE_BUVID=AUTO4716261050593882; rpdid=|(J|YmYulk~~0J\\'uYkYuJJm|u; video_page_version=v_old_home; fingerprint_s=9b0bccf4ec57734720e42828cf636185; i-wanna-go-back=-1; buvid_fp_plain=undefined; buvid4=FA94223F-82CA-ACC9-D0BB-E38B02B4731991204-022012417-4HxpIjLfbKYv65KDSYmcdw%3D%3D; fingerprint3=0111e39952fcd2d0e77176058d70888b; CURRENT_BLACKGAP=0; hit-dyn-v2=1; nostalgia_conf=-1; CURRENT_QUALITY=116; blackside_state=0; _uuid=A99993BA-C72A-4106B-8344-C9D7109BCAFBF01405infoc; fingerprint=0b5f8746827d7037afa0e55420fc4564; buvid_fp=0b5f8746827d7037afa0e55420fc4564; DedeUserID=23111878; DedeUserID__ckMd5=0d9aed6047896e63; b_ut=5; CURRENT_FNVAL=4048; innersign=0; SESSDATA=92089377%2C1677495170%2Cf6a2f%2A81; bili_jct=e1f20d7b43ef9b44fc321addf4ed0b3f; sid=parqjy1w; b_lsid=DB9D9F6F_182F3DB085D; bp_video_offset_23111878=700562458064978000; PVID=3',\n",
    "            'origin': 'https://www.bilibili.com',\n",
    "            'referer': 'https://www.bilibili.com/',\n",
    "            'sec-ch-ua': '\"Chromium\";v=\"104\", \" Not A;Brand\";v=\"99\", \"Google Chrome\";v=\"104\"',\n",
    "            'sec-ch-ua-mobile': '?0',\n",
    "            'sec-ch-ua-platform': '\"Windows\"',\n",
    "            'sec-fetch-dest': 'empty',\n",
    "            'sec-fetch-mode': 'cors',\n",
    "            'sec-fetch-site': 'same-site',\n",
    "            'user-agent': 'Mozilla/5.0 (Windows NT 10.0; Win64; x64) AppleWebKit/537.36 (KHTML, like Gecko) Chrome/104.0.0.0 Safari/537.36',\n",
    "        }\n",
    "\n",
    "\n",
    "\n",
    "        params = {\n",
    "            'ps': '20',\n",
    "            'pn': f'{page}',\n",
    "        }\n",
    "\n",
    "        time.sleep(1)\n",
    "        r = requests.get('https://api.bilibili.com/x/web-interface/popular', params=params, cookies=cookies, headers=headers)\n",
    "        # print(r.status_code)\n",
    "        json_content = r.json()\n",
    "        for item in json_content['data']['list']:\n",
    "            # print(item['short_link'])\n",
    "            bilibili_data.append([item['title'],item['pic'],item['short_link']])\n",
    "\n",
    "        \n",
    "        page +=1\n",
    "        if page > 1:\n",
    "            break\n",
    "    print(bilibili_data)\n",
    "\n",
    "    return bilibili_data\n",
    "\n",
    "    \n"
   ]
  },
  {
   "cell_type": "code",
   "execution_count": 115,
   "metadata": {},
   "outputs": [
    {
     "name": "stdout",
     "output_type": "stream",
     "text": [
      "top->0【苏星河】我的这个微信，你们没人用过->https://b23.tv/BV1tV4y1H72k\n",
      "top->1纯黑《最后生还者:第一部》绝地迅猛无伤攻略解说 第一期->https://b23.tv/BV19D4y167sn\n",
      "top->2(､´･ω･)▄︻┻┳═一->https://b23.tv/BV1AG4y167Wo\n",
      "\n"
     ]
    }
   ],
   "source": [
    "cnt = 3\n",
    "num = 0\n",
    "result_content = ''\n",
    "with open('E:\\Study\\Py\\OCR_bot\\\\bilibili.csv','r',encoding='utf-8',newline='') as f:\n",
    "        content = csv.reader(f)\n",
    "        for row in content:\n",
    "                result_content += f'top->{num}{row[0]}->{row[2]}\\n'\n",
    "                num += 1\n",
    "                if num >= cnt:\n",
    "                        break\n",
    "        print(result_content)\n",
    "        \n"
   ]
  },
  {
   "cell_type": "code",
   "execution_count": null,
   "metadata": {},
   "outputs": [],
   "source": []
  }
 ],
 "metadata": {
  "kernelspec": {
   "display_name": "Python 3.10.0 ('.venv': venv)",
   "language": "python",
   "name": "python3"
  },
  "language_info": {
   "codemirror_mode": {
    "name": "ipython",
    "version": 3
   },
   "file_extension": ".py",
   "mimetype": "text/x-python",
   "name": "python",
   "nbconvert_exporter": "python",
   "pygments_lexer": "ipython3",
   "version": "3.10.0"
  },
  "orig_nbformat": 4,
  "vscode": {
   "interpreter": {
    "hash": "82130a9b4ad8bf015c1f33ffcb4451eb6fa7f1f22f69bdadfa5ffc1f433043d6"
   }
  }
 },
 "nbformat": 4,
 "nbformat_minor": 2
}

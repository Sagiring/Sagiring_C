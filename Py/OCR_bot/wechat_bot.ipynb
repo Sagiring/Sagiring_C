{
 "cells": [
  {
   "cell_type": "code",
   "execution_count": 140,
   "metadata": {},
   "outputs": [],
   "source": [
    "import csv"
   ]
  },
  {
   "cell_type": "code",
   "execution_count": 145,
   "metadata": {},
   "outputs": [],
   "source": [
    "cnt = 3\n",
    "num = 0\n",
    "result_content = ''\n",
    "with open('E:\\Study\\Py\\OCR_bot\\\\bilibili.csv','r',encoding='utf-8',newline='') as f:\n",
    "        content = csv.reader(f)\n",
    "        for row in content:\n",
    "                num += 1\n",
    "                result_content += f'top->{num}{row[0]}->{row[2]}\\n'\n",
    "                if num >= cnt:\n",
    "                        break"
   ]
  },
  {
   "cell_type": "code",
   "execution_count": 148,
   "metadata": {},
   "outputs": [
    {
     "name": "stdout",
     "output_type": "stream",
     "text": [
      "top->1“所以你宁愿错过也不愿主动 ，对吗”->https://b23.tv/BV1AW4y1b7nz\n",
      "top->2瘫痪小猫咪做康复训练，究竟能摆烂到什么地步->https://b23.tv/BV1ZW4y1t7aX\n",
      "top->3【苏星河】我的这个微信，你们没人用过->https://b23.tv/BV1tV4y1H72k\n",
      "\n"
     ]
    }
   ],
   "source": [
    "print(result_content)"
   ]
  }
 ],
 "metadata": {
  "kernelspec": {
   "display_name": "Python 3.10.0 ('.venv': venv)",
   "language": "python",
   "name": "python3"
  },
  "language_info": {
   "codemirror_mode": {
    "name": "ipython",
    "version": 3
   },
   "file_extension": ".py",
   "mimetype": "text/x-python",
   "name": "python",
   "nbconvert_exporter": "python",
   "pygments_lexer": "ipython3",
   "version": "3.10.0"
  },
  "orig_nbformat": 4,
  "vscode": {
   "interpreter": {
    "hash": "82130a9b4ad8bf015c1f33ffcb4451eb6fa7f1f22f69bdadfa5ffc1f433043d6"
   }
  }
 },
 "nbformat": 4,
 "nbformat_minor": 2
}

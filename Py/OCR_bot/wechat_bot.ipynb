{
 "cells": [
  {
   "cell_type": "code",
   "execution_count": 24,
   "metadata": {},
   "outputs": [],
   "source": [
    "import csv"
   ]
  },
  {
   "cell_type": "code",
   "execution_count": 62,
   "metadata": {},
   "outputs": [
    {
     "name": "stdout",
     "output_type": "stream",
     "text": [
      "这里是笨笨的bot的指南（更新中）\n",
      "---1.问()答()---\n",
      "---2.b站热搜---\n",
      "---3.更新b站热搜---\n",
      "---4.拍一拍回话---\n",
      "---5.bot今天吃什么---\n",
      "---6.bot关机---\n",
      "---7.微博热搜(开发中)---\n",
      "---8.bot说(可空)----\n",
      "---9.删除词条(开发中)---\n",
      "---PS 关键词叠起来可能会有坏事发生---\n"
     ]
    }
   ],
   "source": [
    "import random\n",
    "path = 'E:\\Study\\Py\\OCR_bot\\\\help.txt'\n",
    "with open(path,'r',encoding='utf-8',newline='')as f:\n",
    "    content = f.read()\n",
    "    print(content)\n",
    "            \n",
    "            \n",
    "               "
   ]
  },
  {
   "cell_type": "code",
   "execution_count": 43,
   "metadata": {},
   "outputs": [],
   "source": [
    "from PIL import ImageGrab "
   ]
  },
  {
   "cell_type": "code",
   "execution_count": 1,
   "metadata": {},
   "outputs": [
    {
     "ename": "NameError",
     "evalue": "name 'ImageGrab' is not defined",
     "output_type": "error",
     "traceback": [
      "\u001b[1;31m---------------------------------------------------------------------------\u001b[0m",
      "\u001b[1;31mNameError\u001b[0m                                 Traceback (most recent call last)",
      "\u001b[1;32me:\\Study\\Py\\OCR_bot\\wechat_bot.ipynb Cell 4\u001b[0m in \u001b[0;36m<cell line: 1>\u001b[1;34m()\u001b[0m\n\u001b[1;32m----> <a href='vscode-notebook-cell:/e%3A/Study/Py/OCR_bot/wechat_bot.ipynb#W3sZmlsZQ%3D%3D?line=0'>1</a>\u001b[0m pic_user \u001b[39m=\u001b[39m ImageGrab\u001b[39m.\u001b[39mgrab(bbox\u001b[39m=\u001b[39m(\u001b[39m460\u001b[39m, \u001b[39m430\u001b[39m, \u001b[39m1050\u001b[39m,\u001b[39m520\u001b[39m))\n\u001b[0;32m      <a href='vscode-notebook-cell:/e%3A/Study/Py/OCR_bot/wechat_bot.ipynb#W3sZmlsZQ%3D%3D?line=1'>2</a>\u001b[0m pic_user\u001b[39m.\u001b[39mshow()\n",
      "\u001b[1;31mNameError\u001b[0m: name 'ImageGrab' is not defined"
     ]
    }
   ],
   "source": [
    "pic_user = ImageGrab.grab(bbox=(460, 430, 1050,520))\n",
    "pic_user.show()\n"
   ]
  },
  {
   "cell_type": "code",
   "execution_count": 21,
   "metadata": {},
   "outputs": [
    {
     "data": {
      "text/plain": [
       "False"
      ]
     },
     "execution_count": 21,
     "metadata": {},
     "output_type": "execute_result"
    }
   ],
   "source": [
    "a = 'b站热搜'\n",
    "a[4:].isdigit()"
   ]
  },
  {
   "cell_type": "code",
   "execution_count": 15,
   "metadata": {},
   "outputs": [
    {
     "data": {
      "text/plain": [
       "20"
      ]
     },
     "execution_count": 15,
     "metadata": {},
     "output_type": "execute_result"
    }
   ],
   "source": [
    "int(a[4:])"
   ]
  },
  {
   "cell_type": "code",
   "execution_count": null,
   "metadata": {},
   "outputs": [],
   "source": []
  }
 ],
 "metadata": {
  "kernelspec": {
   "display_name": "Python 3.10.0 ('.venv': venv)",
   "language": "python",
   "name": "python3"
  },
  "language_info": {
   "codemirror_mode": {
    "name": "ipython",
    "version": 3
   },
   "file_extension": ".py",
   "mimetype": "text/x-python",
   "name": "python",
   "nbconvert_exporter": "python",
   "pygments_lexer": "ipython3",
   "version": "3.10.0"
  },
  "orig_nbformat": 4,
  "vscode": {
   "interpreter": {
    "hash": "82130a9b4ad8bf015c1f33ffcb4451eb6fa7f1f22f69bdadfa5ffc1f433043d6"
   }
  }
 },
 "nbformat": 4,
 "nbformat_minor": 2
}

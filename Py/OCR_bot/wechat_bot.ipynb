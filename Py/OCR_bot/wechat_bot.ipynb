{
 "cells": [
  {
   "cell_type": "code",
   "execution_count": 1,
   "metadata": {},
   "outputs": [],
   "source": [
    "import hashlib"
   ]
  },
  {
   "cell_type": "code",
   "execution_count": 63,
   "metadata": {},
   "outputs": [
    {
     "name": "stdout",
     "output_type": "stream",
     "text": [
      "bcc58e75b386f0c26a5cb097ce8fc06d\n",
      "bcc58e75b386f0c26a5cb097ce8fc06d\n"
     ]
    }
   ],
   "source": [
    "\n",
    "pic_hash_path = f'E:\\Study\\Py\\OCR_bot\\pic\\pic_hash.jpg'\n",
    "with open(pic_hash_path,'rb') as pic_hash:\n",
    "        pic_data = pic_hash.read()\n",
    "        base64_data = base64.b64encode(pic_data)\n",
    "        # print(base64_data)\n",
    "        data = hashlib.md5(base64_data).hexdigest()\n",
    "        print(data)\n",
    "pic_hash_path = f'E:\\Study\\Py\\OCR_bot\\pic\\pic.jpg'\n"
   ]
  }
 ],
 "metadata": {
  "kernelspec": {
   "display_name": "Python 3.10.0 ('.venv': venv)",
   "language": "python",
   "name": "python3"
  },
  "language_info": {
   "codemirror_mode": {
    "name": "ipython",
    "version": 3
   },
   "file_extension": ".py",
   "mimetype": "text/x-python",
   "name": "python",
   "nbconvert_exporter": "python",
   "pygments_lexer": "ipython3",
   "version": "3.10.0"
  },
  "orig_nbformat": 4,
  "vscode": {
   "interpreter": {
    "hash": "82130a9b4ad8bf015c1f33ffcb4451eb6fa7f1f22f69bdadfa5ffc1f433043d6"
   }
  }
 },
 "nbformat": 4,
 "nbformat_minor": 2
}

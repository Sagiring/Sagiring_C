{
 "cells": [
  {
   "cell_type": "code",
   "execution_count": 24,
   "metadata": {},
   "outputs": [],
   "source": [
    "import csv"
   ]
  },
  {
   "cell_type": "code",
   "execution_count": 62,
   "metadata": {},
   "outputs": [
    {
     "name": "stdout",
     "output_type": "stream",
     "text": [
      "这里是笨笨的bot的指南（更新中）\n",
      "---1.问()答()---\n",
      "---2.b站热搜---\n",
      "---3.更新b站热搜---\n",
      "---4.拍一拍回话---\n",
      "---5.bot今天吃什么---\n",
      "---6.bot关机---\n",
      "---7.微博热搜(开发中)---\n",
      "---8.bot说(可空)----\n",
      "---9.删除词条(开发中)---\n",
      "---PS 关键词叠起来可能会有坏事发生---\n"
     ]
    }
   ],
   "source": [
    "import random\n",
    "path = 'E:\\Study\\Py\\OCR_bot\\\\help.txt'\n",
    "with open(path,'r',encoding='utf-8',newline='')as f:\n",
    "    content = f.read()\n",
    "    print(content)\n",
    "            \n",
    "            \n",
    "               "
   ]
  },
  {
   "cell_type": "code",
   "execution_count": 43,
   "metadata": {},
   "outputs": [],
   "source": [
    "from PIL import ImageGrab "
   ]
  },
  {
   "cell_type": "code",
   "execution_count": 73,
   "metadata": {},
   "outputs": [],
   "source": [
    "pic_user = ImageGrab.grab(bbox=(460, 430, 1050,520))\n",
    "pic_user.show()\n"
   ]
  }
 ],
 "metadata": {
  "kernelspec": {
   "display_name": "Python 3.10.0 ('.venv': venv)",
   "language": "python",
   "name": "python3"
  },
  "language_info": {
   "codemirror_mode": {
    "name": "ipython",
    "version": 3
   },
   "file_extension": ".py",
   "mimetype": "text/x-python",
   "name": "python",
   "nbconvert_exporter": "python",
   "pygments_lexer": "ipython3",
   "version": "3.10.0"
  },
  "orig_nbformat": 4,
  "vscode": {
   "interpreter": {
    "hash": "82130a9b4ad8bf015c1f33ffcb4451eb6fa7f1f22f69bdadfa5ffc1f433043d6"
   }
  }
 },
 "nbformat": 4,
 "nbformat_minor": 2
}
